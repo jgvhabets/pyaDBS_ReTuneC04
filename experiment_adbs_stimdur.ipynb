{
 "cells": [
  {
   "cell_type": "markdown",
   "metadata": {},
   "source": [
    "## Setup session\n",
    "Provide an experiment name as `experiment_name`. Enter a patient identifier as `patient_id`. Provide the current medication state as `medication_state` using either `Off` or `On`. Further details on medication, especially when deviating from the study protocol, must be noted in the electronic labbook. Enter a number as `session_id` to uniquely identify this session in case multiple sessions will be run with the same patient and the same medication condition."
   ]
  },
  {
   "cell_type": "code",
   "execution_count": 1,
   "metadata": {},
   "outputs": [
    {
     "name": "stdout",
     "output_type": "stream",
     "text": [
      "added TMSi-packages PATH: c:\\Code\\pyaDBS_ReTuneC04\\packages\\tmsi-python-interface\n",
      "C:\\Program files\\TMSi\\Saga\\TMSiSagaDeviceLib.dll available.\n",
      "Successfully loaded SAGA device library, handle: 0x7ffd3c460000\n",
      "added TMSi-packages PATH: c:\\Code\\pyaDBS_ReTuneC04\\packages\\tmsi-python-interface\n",
      "\n",
      "Session object initialized with params:\n",
      "experiment_name = adbs_stimdur\n",
      "patient_id = test\n",
      "medication_state = Off\n",
      "session_id = 3\n"
     ]
    }
   ],
   "source": [
    "from setup.Session import Session\n",
    "\n",
    "experiment_name = \"adbs_stimdur\"\n",
    "patient_id = \"test\"\n",
    "medication_state = \"Off\" # \"Off\" or \"On\"\n",
    "session_id = 3\n",
    "\n",
    "session = Session(experiment_name, patient_id, medication_state, session_id)"
   ]
  },
  {
   "cell_type": "markdown",
   "metadata": {},
   "source": [
    "Initialize a folder structure for this session. A root directory will be created in `C:\\\\Measurements\\\\experiment_name` with subfolders following the BIDS specification. Calibration data recorded via the TMSi GUI and experimental data recorded via Labrecorder will be stored in the sourcedata folder. "
   ]
  },
  {
   "cell_type": "code",
   "execution_count": 2,
   "metadata": {},
   "outputs": [
    {
     "name": "stdout",
     "output_type": "stream",
     "text": [
      "\n",
      "C:\\Measurements\\adbs_stimdur\\sourcedata\\sub-test\\ses-EphysMedOff03\\ieeg was already created before.\n",
      "This directory will now be used to save data, but consider setting a different session_id if you want to set up a new session.\n",
      "\n"
     ]
    }
   ],
   "source": [
    "session.set_directory()"
   ]
  },
  {
   "cell_type": "markdown",
   "metadata": {},
   "source": [
    "## Set device configuration\n",
    "Update TMSi Saga configuration: Set channel names, enabled channels and sampling frequency according to config file. Not that AUX and BIP channel names can not be set to individual channel names."
   ]
  },
  {
   "cell_type": "code",
   "execution_count": null,
   "metadata": {},
   "outputs": [],
   "source": [
    "session.set_saga_configuration()"
   ]
  },
  {
   "cell_type": "markdown",
   "metadata": {},
   "source": [
    "## Get calibration data\n",
    "Set `calibration_run_index` to identify calibration data. In case multiple calibration runs need to be executed (e.g., due of artefacts), these can be distinguished by this index. Note that TMSi nevertheless adds a timestamp to each recorded file, thus there may be more than one calibration data file with the same `calibration_run_index` but with different timestamps"
   ]
  },
  {
   "cell_type": "code",
   "execution_count": 3,
   "metadata": {},
   "outputs": [],
   "source": [
    "calibration_run_index = 1"
   ]
  },
  {
   "cell_type": "markdown",
   "metadata": {},
   "source": [
    "Record calibration data. In case calibration data with this `calibration_run_index` already exists you will be asked whether you want to record to a file with the same `calibration_run_index`. If not, you need to change `calibration_run_index` to a different value. Calibration data will be saved to the disk and can be loaded in later."
   ]
  },
  {
   "cell_type": "code",
   "execution_count": null,
   "metadata": {},
   "outputs": [],
   "source": [
    "session.record_calibration_data(calibration_run_index)"
   ]
  },
  {
   "cell_type": "markdown",
   "metadata": {},
   "source": [
    "Load calibration data using the `calibration_run_index` provided above. In case multiple files with the same `calibration_run_index` but with different timestamps exist, you will be asked to select one of these."
   ]
  },
  {
   "cell_type": "code",
   "execution_count": 7,
   "metadata": {},
   "outputs": [
    {
     "name": "stdout",
     "output_type": "stream",
     "text": [
      "\n",
      "More than one calibration file exists with this calibration_run_index:\n",
      "File index: 0: C:\\Measurements\\adbs_stimdur\\sourcedata\\sub-test\\ses-EphysMedOff03\\ieeg\\sub-test_ses-EphysMedOff03_task-calibration_run-01-20240222_120338.xdf\n",
      "File index: 1: C:\\Measurements\\adbs_stimdur\\sourcedata\\sub-test\\ses-EphysMedOff03\\ieeg\\sub-test_ses-EphysMedOff03_task-calibration_run-01-20240222_122750.xdf\n",
      "File index: 2: C:\\Measurements\\adbs_stimdur\\sourcedata\\sub-test\\ses-EphysMedOff03\\ieeg\\sub-test_ses-EphysMedOff03_task-calibration_run-01-20240222_150423.xdf\n",
      "\n",
      "C:\\Measurements\\adbs_stimdur\\sourcedata\\sub-test\\ses-EphysMedOff03\\ieeg\\sub-test_ses-EphysMedOff03_task-calibration_run-01-20240222_120338.xdf will be loaded.\n",
      "Creating RawArray with float64 data, n_channels=8, n_times=37800\n",
      "    Range : 0 ... 37799 =      0.000 ...    37.799 secs\n",
      "Ready.\n"
     ]
    }
   ],
   "source": [
    "session.load_calibration_data(calibration_run_index)"
   ]
  },
  {
   "cell_type": "markdown",
   "metadata": {},
   "source": [
    "## Run timeflux"
   ]
  }
 ],
 "metadata": {
  "kernelspec": {
   "display_name": "py_aDBS",
   "language": "python",
   "name": "python3"
  },
  "language_info": {
   "codemirror_mode": {
    "name": "ipython",
    "version": 3
   },
   "file_extension": ".py",
   "mimetype": "text/x-python",
   "name": "python",
   "nbconvert_exporter": "python",
   "pygments_lexer": "ipython3",
   "version": "3.9.18"
  }
 },
 "nbformat": 4,
 "nbformat_minor": 2
}
