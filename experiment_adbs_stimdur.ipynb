{
 "cells": [
  {
   "cell_type": "markdown",
   "metadata": {},
   "source": [
    "## Setup session\n",
    "Provide an experiment name as `experiment_name`. Enter a patient identifier as `patient_id`. Provide the current medication state as `medication_state` using either `Off` or `On`. Further details on medication, especially when deviating from the study protocol, must be noted in the electronic labbook. Enter a number as `session_id` to uniquely identify this session in case multiple sessions will be run with the same patient and the same medication condition. This cell also initializes a folder structure for this session. A root directory will be created in `C:\\\\Measurements\\\\experiment_name` with subfolders following the BIDS specification. Calibration data recorded via the TMSi GUI and experimental data recorded via Labrecorder will be stored in the sourcedata folder. Folders will only be created if they were not created before."
   ]
  },
  {
   "cell_type": "code",
   "execution_count": 1,
   "metadata": {},
   "outputs": [
    {
     "name": "stdout",
     "output_type": "stream",
     "text": [
      "added TMSi-packages PATH: c:\\Code\\pyaDBS_ReTuneC04\\packages\\tmsi-python-interface\n",
      "C:\\Program files\\TMSi\\Saga\\TMSiSagaDeviceLib.dll available.\n",
      "Successfully loaded SAGA device library, handle: 0x7ffd8f900000\n",
      "added TMSi-packages PATH: c:\\Code\\pyaDBS_ReTuneC04\\packages\\tmsi-python-interface\n",
      "\n",
      "Session object initialized with the following parameters:\n",
      "experiment_name = adbs_stimdur\n",
      "patient_id = test\n",
      "medication_state = Off\n",
      "session_id = 1\n",
      "\n",
      "C:\\Measurements\\adbs_stimdur\\sourcedata\\sub-test\\ses-EphysMedOff01\\ieeg was already created before.\n",
      "This directory will now be used to save data, but consider setting a different session_id if you want to set up a new session.\n",
      "\n"
     ]
    }
   ],
   "source": [
    "from setup.Session import Session\n",
    "\n",
    "experiment_name = \"adbs_stimdur\"\n",
    "patient_id = \"test\"\n",
    "medication_state = \"Off\" # \"Off\" or \"On\"\n",
    "session_id = 1\n",
    "\n",
    "session = Session(experiment_name, patient_id, medication_state, session_id)"
   ]
  },
  {
   "cell_type": "markdown",
   "metadata": {},
   "source": [
    "## Set device configuration\n",
    "Update TMSi Saga configuration: Set channel names, enabled channels and sampling frequency according to config file. Not that AUX and BIP channel names can not be set to individual channel names."
   ]
  },
  {
   "cell_type": "code",
   "execution_count": null,
   "metadata": {},
   "outputs": [],
   "source": [
    "session.set_saga_configuration()"
   ]
  },
  {
   "cell_type": "markdown",
   "metadata": {},
   "source": [
    "## Get calibration data\n",
    "Set `calibration_run_index` to identify calibration data. In case multiple calibration runs need to be executed (e.g., due of artefacts), these can be distinguished by this index. Note that TMSi nevertheless adds a timestamp to each recorded file, thus there may be more than one calibration data file with the same `calibration_run_index` but with different timestamps"
   ]
  },
  {
   "cell_type": "code",
   "execution_count": 2,
   "metadata": {},
   "outputs": [],
   "source": [
    "calibration_run_index = 1"
   ]
  },
  {
   "cell_type": "markdown",
   "metadata": {},
   "source": [
    "Record calibration data. In case calibration data with this `calibration_run_index` already exists you will be asked whether you want to record to a file with the same `calibration_run_index`. If not, you need to change `calibration_run_index` to a different value. Calibration data will be saved to the disk and can be loaded in later."
   ]
  },
  {
   "cell_type": "code",
   "execution_count": 6,
   "metadata": {},
   "outputs": [
    {
     "name": "stdout",
     "output_type": "stream",
     "text": [
      "\n",
      "sub-test_ses-EphysMedOff01_task-calibration_run-01_ieeg.fif was already created before.\n",
      "Recording will be started.\n",
      "XdfWriter-open\n",
      "Default channel ordening is used.\n",
      "producer-1  started\n",
      "The plotter skipped some samples to compensate for lag..\n",
      "The plotter skipped some samples to compensate for lag..\n",
      "The plotter skipped some samples to compensate for lag..\n",
      "The plotter skipped some samples to compensate for lag..\n",
      "The plotter skipped some samples to compensate for lag..\n",
      "The plotter skipped some samples to compensate for lag..\n",
      "The plotter skipped some samples to compensate for lag..\n",
      "The plotter skipped some samples to compensate for lag..\n",
      "The plotter skipped some samples to compensate for lag..\n",
      "The plotter skipped some samples to compensate for lag..\n",
      "The plotter skipped some samples to compensate for lag..\n",
      "The plotter skipped some samples to compensate for lag..\n",
      "The plotter skipped some samples to compensate for lag..\n",
      "The plotter skipped some samples to compensate for lag..\n",
      "The plotter skipped some samples to compensate for lag..\n",
      "The plotter skipped some samples to compensate for lag..\n",
      "The plotter skipped some samples to compensate for lag..\n",
      "The plotter skipped some samples to compensate for lag..\n",
      "The plotter skipped some samples to compensate for lag..\n",
      "The plotter skipped some samples to compensate for lag..\n",
      "The plotter skipped some samples to compensate for lag..\n",
      "The plotter skipped some samples to compensate for lag..\n",
      "The plotter skipped some samples to compensate for lag..\n",
      "The plotter skipped some samples to compensate for lag..\n",
      "The plotter skipped some samples to compensate for lag..\n",
      "The plotter skipped some samples to compensate for lag..\n",
      "The plotter skipped some samples to compensate for lag..\n",
      "The plotter skipped some samples to compensate for lag..\n",
      "The plotter skipped some samples to compensate for lag..\n",
      "The plotter skipped some samples to compensate for lag..\n",
      "The plotter skipped some samples to compensate for lag..\n",
      "The plotter skipped some samples to compensate for lag..\n",
      "The plotter skipped some samples to compensate for lag..\n",
      "The plotter skipped some samples to compensate for lag..\n",
      "The plotter skipped some samples to compensate for lag..\n",
      "The plotter skipped some samples to compensate for lag..\n",
      "The plotter skipped some samples to compensate for lag..\n",
      "The plotter skipped some samples to compensate for lag..\n",
      "The plotter skipped some samples to compensate for lag..\n",
      "The plotter skipped some samples to compensate for lag..\n",
      "The plotter skipped some samples to compensate for lag..\n",
      "The plotter skipped some samples to compensate for lag..\n",
      "The plotter skipped some samples to compensate for lag..\n",
      "The plotter skipped some samples to compensate for lag..\n",
      "The plotter skipped some samples to compensate for lag..\n",
      "The plotter skipped some samples to compensate for lag..\n",
      "The plotter skipped some samples to compensate for lag..\n",
      "The plotter skipped some samples to compensate for lag..\n",
      "The plotter skipped some samples to compensate for lag..\n",
      "The plotter skipped some samples to compensate for lag..\n",
      "The plotter skipped some samples to compensate for lag..\n",
      "The plotter skipped some samples to compensate for lag..\n",
      "The plotter skipped some samples to compensate for lag..\n",
      "The plotter skipped some samples to compensate for lag..\n",
      "The plotter skipped some samples to compensate for lag..\n",
      "The plotter skipped some samples to compensate for lag..\n",
      "The plotter skipped some samples to compensate for lag..\n",
      "The plotter skipped some samples to compensate for lag..\n",
      "The plotter skipped some samples to compensate for lag..\n",
      "The plotter skipped some samples to compensate for lag..\n",
      "The plotter skipped some samples to compensate for lag..\n",
      "The plotter skipped some samples to compensate for lag..\n",
      "The plotter skipped some samples to compensate for lag..\n",
      "The plotter skipped some samples to compensate for lag..\n",
      "The plotter skipped some samples to compensate for lag..\n",
      "The plotter skipped some samples to compensate for lag..\n",
      "The plotter skipped some samples to compensate for lag..\n",
      "The plotter skipped some samples to compensate for lag..\n",
      "The plotter skipped some samples to compensate for lag..\n",
      "The plotter skipped some samples to compensate for lag..\n",
      "The plotter skipped some samples to compensate for lag..\n",
      "The plotter skipped some samples to compensate for lag..\n",
      "The plotter skipped some samples to compensate for lag..\n",
      "The plotter skipped some samples to compensate for lag..\n",
      "The plotter skipped some samples to compensate for lag..\n",
      "The plotter skipped some samples to compensate for lag..\n",
      "The plotter skipped some samples to compensate for lag..\n",
      "The plotter skipped some samples to compensate for lag..\n",
      "The plotter skipped some samples to compensate for lag..\n",
      "The plotter skipped some samples to compensate for lag..\n",
      "The plotter skipped some samples to compensate for lag..\n",
      "The plotter skipped some samples to compensate for lag..\n",
      "The plotter skipped some samples to compensate for lag..\n",
      "The plotter skipped some samples to compensate for lag..\n",
      "The plotter skipped some samples to compensate for lag..\n",
      "The plotter skipped some samples to compensate for lag..\n",
      "The plotter skipped some samples to compensate for lag..\n",
      "The plotter skipped some samples to compensate for lag..\n",
      "The plotter skipped some samples to compensate for lag..\n",
      "The plotter skipped some samples to compensate for lag..\n",
      "The plotter skipped some samples to compensate for lag..\n",
      "The plotter skipped some samples to compensate for lag..\n",
      "The plotter skipped some samples to compensate for lag..\n",
      "The plotter skipped some samples to compensate for lag..\n",
      "The plotter skipped some samples to compensate for lag..\n",
      "The plotter skipped some samples to compensate for lag..\n",
      "The plotter skipped some samples to compensate for lag..\n",
      "The plotter skipped some samples to compensate for lag..\n",
      "The plotter skipped some samples to compensate for lag..\n",
      "The plotter skipped some samples to compensate for lag..\n",
      "The plotter skipped some samples to compensate for lag..\n",
      "The plotter skipped some samples to compensate for lag..\n",
      "The plotter skipped some samples to compensate for lag..\n",
      "The plotter skipped some samples to compensate for lag..\n",
      "The plotter skipped some samples to compensate for lag..\n",
      "The plotter skipped some samples to compensate for lag..\n",
      "The plotter skipped some samples to compensate for lag..\n",
      "The plotter skipped some samples to compensate for lag..\n",
      "The plotter skipped some samples to compensate for lag..\n",
      "The plotter skipped some samples to compensate for lag..\n",
      "The plotter skipped some samples to compensate for lag..\n",
      "The plotter skipped some samples to compensate for lag..\n",
      "The plotter skipped some samples to compensate for lag..\n",
      "The plotter skipped some samples to compensate for lag..\n",
      "The plotter skipped some samples to compensate for lag..\n",
      "The plotter skipped some samples to compensate for lag..\n",
      "The plotter skipped some samples to compensate for lag..\n",
      "The plotter skipped some samples to compensate for lag..\n",
      "The plotter skipped some samples to compensate for lag..\n",
      "The plotter skipped some samples to compensate for lag..\n",
      "The plotter skipped some samples to compensate for lag..\n",
      "The plotter skipped some samples to compensate for lag..\n",
      "The plotter skipped some samples to compensate for lag..\n",
      "The plotter skipped some samples to compensate for lag..\n",
      "The plotter skipped some samples to compensate for lag..\n",
      "The plotter skipped some samples to compensate for lag..\n",
      "The plotter skipped some samples to compensate for lag..\n",
      "The plotter skipped some samples to compensate for lag..\n",
      "The plotter skipped some samples to compensate for lag..\n",
      "The plotter skipped some samples to compensate for lag..\n",
      "The plotter skipped some samples to compensate for lag..\n",
      "The plotter skipped some samples to compensate for lag..\n",
      "The plotter skipped some samples to compensate for lag..\n",
      "The plotter skipped some samples to compensate for lag..\n",
      "The plotter skipped some samples to compensate for lag..\n",
      "The plotter skipped some samples to compensate for lag..\n",
      "The plotter skipped some samples to compensate for lag..\n",
      "The plotter skipped some samples to compensate for lag..\n",
      "The plotter skipped some samples to compensate for lag..\n",
      "The plotter skipped some samples to compensate for lag..\n",
      "The plotter skipped some samples to compensate for lag..\n",
      "The plotter skipped some samples to compensate for lag..\n",
      "The plotter skipped some samples to compensate for lag..\n",
      "The plotter skipped some samples to compensate for lag..\n",
      "The plotter skipped some samples to compensate for lag..\n",
      "The plotter skipped some samples to compensate for lag..\n",
      "The plotter skipped some samples to compensate for lag..\n",
      "The plotter skipped some samples to compensate for lag..\n",
      "The plotter skipped some samples to compensate for lag..\n",
      "The plotter skipped some samples to compensate for lag..\n",
      "The plotter skipped some samples to compensate for lag..\n",
      "The plotter skipped some samples to compensate for lag..\n",
      "producer-1  stop sampling\n",
      "producer-1  ready\n",
      "XdfWriter-close\n",
      "Xdf-writer : dev-id-1  stop sampling\n",
      "Xdf-writer : dev-id-1  ready, closing file\n",
      "Reading file  C:\\Measurements\\adbs_stimdur\\sourcedata\\sub-test\\ses-EphysMedOff01\\ieeg\\sub-test_ses-EphysMedOff01_task-calibration_run-01_ieeg.fif-20240301_170826.xdf\n",
      "Number of streams in file: 1\n",
      "Creating RawArray with float64 data, n_channels=25, n_times=12900\n",
      "    Range : 0 ... 12899 =      0.000 ...    12.899 secs\n",
      "Ready.\n",
      "<RawArray | 25 x 12900 (12.9 s), ~2.5 MB, data loaded>\n",
      "\n",
      "<Info | 7 non-empty values\n",
      " bads: []\n",
      " ch_names: LFPR1, LFPR234, LFPR567, LFPR8, LFPL1, LFPL234, LFPL567, LFPL8, ...\n",
      " chs: 14 EEG, 11 misc\n",
      " custom_ref_applied: False\n",
      " highpass: 0.0 Hz\n",
      " lowpass: 500.0 Hz\n",
      " meas_date: unspecified\n",
      " nchan: 25\n",
      " projs: []\n",
      " sfreq: 1000.0 Hz\n",
      ">\n",
      "EEG channel type selected for re-referencing\n",
      "Creating RawArray with float64 data, n_channels=3, n_times=12900\n",
      "    Range : 0 ... 12899 =      0.000 ...    12.899 secs\n",
      "Ready.\n",
      "Added the following bipolar channels:\n",
      "X-1-Y-1, X-1-Z-1, Y-1-Z-1\n",
      "Overwriting existing file.\n",
      "Writing C:\\Measurements\\adbs_stimdur\\sourcedata\\sub-test\\ses-EphysMedOff01\\ieeg\\sub-test_ses-EphysMedOff01_task-calibration_run-01_ieeg.fif\n",
      "Closing C:\\Measurements\\adbs_stimdur\\sourcedata\\sub-test\\ses-EphysMedOff01\\ieeg\\sub-test_ses-EphysMedOff01_task-calibration_run-01_ieeg.fif\n",
      "[done]\n"
     ]
    },
    {
     "name": "stderr",
     "output_type": "stream",
     "text": [
      "c:\\Code\\pyaDBS_ReTuneC04\\packages\\tmsi-python-interface\\TMSiFileFormats\\file_readers\\xdf_reader.py:85: RuntimeWarning: Channel names are not unique, found duplicates for: {'Y', 'X', 'Z'}. Applying running numbers for duplicates.\n",
      "  info = mne.create_info(ch_names=labels, sfreq=fs, ch_types=types)\n"
     ]
    }
   ],
   "source": [
    "session.record_calibration_data(calibration_run_index)"
   ]
  },
  {
   "cell_type": "markdown",
   "metadata": {},
   "source": [
    "Visualize calibration data. First, bipolar derivations will be computed from the channels present in the calibration data according to `config_session.json`. A power spectrum and a spectrogram will be computed and plotted for these channels."
   ]
  },
  {
   "cell_type": "code",
   "execution_count": 8,
   "metadata": {},
   "outputs": [
    {
     "name": "stdout",
     "output_type": "stream",
     "text": [
      "\n",
      "C:\\Measurements\\adbs_stimdur\\sourcedata\\sub-test\\ses-EphysMedOff01\\ieeg\\sub-test_ses-EphysMedOff01_task-calibration_run-01_ieeg.fif will be loaded.\n",
      "Opening raw data file C:\\Measurements\\adbs_stimdur\\sourcedata\\sub-test\\ses-EphysMedOff01\\ieeg\\sub-test_ses-EphysMedOff01_task-calibration_run-01_ieeg.fif...\n",
      "    Range : 0 ... 12899 =      0.000 ...    12.899 secs\n",
      "Ready.\n",
      "Not setting metadata\n",
      "1 matching events found\n",
      "No baseline correction applied\n",
      "0 projection items activated\n",
      "Loading data for 1 events and 10000 original time points ...\n",
      "0 bad epochs dropped\n",
      "Effective window size : 1.000 (s)\n",
      "Loading data for 1 events and 10000 original time points ...\n",
      "No baseline correction applied\n"
     ]
    }
   ],
   "source": [
    "%matplotlib qt\n",
    "session.compute_spectra(calibration_run_index)"
   ]
  },
  {
   "cell_type": "markdown",
   "metadata": {},
   "source": [
    "## Finalize configuration\n",
    "Select the recording channel that will be used to extract the aDBS biomarker as `adbs_channel`. The stimulation channel will be automatically set according to the recording channel (i.e., the channel in between the cathode and the anode: \"sandwich configuration\"). Provide the maximum stimulation amplitude to which stimulation will be ramped up as `max_stim_amp`."
   ]
  },
  {
   "cell_type": "code",
   "execution_count": 10,
   "metadata": {},
   "outputs": [],
   "source": [
    "adbs_channel = \"X-1-Y-1\" # \"LFPR1-LFPR567\", \"LFPR234-LFPR8\", \"LFPL1-LFPL567\", \"LFPL234-LFPL8\"\n",
    "max_stim_amp = 2"
   ]
  },
  {
   "cell_type": "markdown",
   "metadata": {},
   "source": [
    "Load experiment and condition configurations. Add `adbs_channel` and `max_stim_amp` to the configuration. Compute and add thresholds based on calibration data and condition-specific parameters for biomarker calculation (e.g., smoothing, windowing, etc.). With this, a final configuration that is specific for the experiment, patient, session and condition is created. This configuration will be provided to timeflux. "
   ]
  },
  {
   "cell_type": "code",
   "execution_count": 34,
   "metadata": {},
   "outputs": [
    {
     "name": "stdout",
     "output_type": "stream",
     "text": [
      "2024-03-01 17:24:02,731 INFO       timeflux     28740    MainProcess      Timeflux 0.16.1\n",
      "2024-03-01 17:24:09,757 INFO       timeflux     28740    MainProcess      Terminated\n",
      "continuing with threshold estimation etc\n"
     ]
    }
   ],
   "source": [
    "session.finalize_configuration(calibration_run_index, adbs_channel, max_stim_amp)"
   ]
  }
 ],
 "metadata": {
  "kernelspec": {
   "display_name": "py_aDBS",
   "language": "python",
   "name": "python3"
  },
  "language_info": {
   "codemirror_mode": {
    "name": "ipython",
    "version": 3
   },
   "file_extension": ".py",
   "mimetype": "text/x-python",
   "name": "python",
   "nbconvert_exporter": "python",
   "pygments_lexer": "ipython3",
   "version": "3.9.18"
  }
 },
 "nbformat": 4,
 "nbformat_minor": 2
}
