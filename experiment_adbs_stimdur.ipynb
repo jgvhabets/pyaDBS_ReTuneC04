{
 "cells": [
  {
   "cell_type": "markdown",
   "metadata": {},
   "source": [
    "## Setup session\n",
    "Provide an experiment name as `experiment_name`. Enter a patient identifier as `patient_id`. Provide the current medication state as `medication_state` using either `Off` or `On`. Further details on medication, especially when deviating from the study protocol, must be noted in the electronic labbook. Enter a number as `session_id` to uniquely identify this session in case multiple sessions will be run with the same patient and the same medication condition. This cell also initializes a folder structure for this session. A root directory will be created in `C:\\\\Measurements\\\\experiment_name` with subfolders following the BIDS specification. Calibration data recorded via the TMSi GUI and experimental data recorded via Labrecorder will be stored in the sourcedata folder. Folders will only be created if they were not created before."
   ]
  },
  {
   "cell_type": "code",
   "execution_count": null,
   "metadata": {},
   "outputs": [],
   "source": [
    "from setup.Session import Session\n",
    "\n",
    "experiment_name = \"adbs_stimdur\"\n",
    "patient_id = \"test\"\n",
    "medication_state = \"Off\" # \"Off\" or \"On\"\n",
    "session_id = 1\n",
    "\n",
    "session = Session(experiment_name, patient_id, medication_state, session_id)"
   ]
  },
  {
   "cell_type": "markdown",
   "metadata": {},
   "source": [
    "## Set device configuration\n",
    "Update TMSi Saga configuration: Set channel names, enabled channels and sampling frequency according to config file. Not that AUX and BIP channel names can not be set to individual channel names."
   ]
  },
  {
   "cell_type": "code",
   "execution_count": null,
   "metadata": {},
   "outputs": [],
   "source": [
    "session.set_saga_configuration()"
   ]
  },
  {
   "cell_type": "markdown",
   "metadata": {},
   "source": [
    "## Get calibration data\n",
    "Set `calibration_run_index` to identify calibration data. In case multiple calibration runs need to be executed (e.g., due of artefacts), these can be distinguished by this index. Note that TMSi nevertheless adds a timestamp to each recorded file, thus there may be more than one calibration data file with the same `calibration_run_index` but with different timestamps"
   ]
  },
  {
   "cell_type": "code",
   "execution_count": null,
   "metadata": {},
   "outputs": [],
   "source": [
    "calibration_run_index = 1"
   ]
  },
  {
   "cell_type": "markdown",
   "metadata": {},
   "source": [
    "Record calibration data. In case calibration data with this `calibration_run_index` already exists you will be asked whether you want to record to a file with the same `calibration_run_index`. If not, you need to change `calibration_run_index` to a different value. Calibration data will be saved to the disk and can be loaded in later."
   ]
  },
  {
   "cell_type": "code",
   "execution_count": null,
   "metadata": {},
   "outputs": [],
   "source": [
    "session.record_calibration_data(calibration_run_index)"
   ]
  },
  {
   "cell_type": "markdown",
   "metadata": {},
   "source": [
    "Load calibration data using the `calibration_run_index` provided above. In case multiple files with the same `calibration_run_index` but with different timestamps exist, you will be asked to select one of these."
   ]
  },
  {
   "cell_type": "code",
   "execution_count": null,
   "metadata": {},
   "outputs": [],
   "source": [
    "session.load_calibration_data(calibration_run_index)"
   ]
  },
  {
   "cell_type": "markdown",
   "metadata": {},
   "source": [
    "Visualize calibration data. First, bipolar derivations will be computed from the channels present in the calibration data according to `config_session.json`. A power spectrum and a spectrogram will be computed and plotted for these channels."
   ]
  },
  {
   "cell_type": "code",
   "execution_count": null,
   "metadata": {},
   "outputs": [],
   "source": [
    "%matplotlib widget\n",
    "session.compute_spectra()"
   ]
  }
 ],
 "metadata": {
  "kernelspec": {
   "display_name": "py_aDBS",
   "language": "python",
   "name": "python3"
  },
  "language_info": {
   "codemirror_mode": {
    "name": "ipython",
    "version": 3
   },
   "file_extension": ".py",
   "mimetype": "text/x-python",
   "name": "python",
   "nbconvert_exporter": "python",
   "pygments_lexer": "ipython3",
   "version": "3.9.18"
  }
 },
 "nbformat": 4,
 "nbformat_minor": 2
}
