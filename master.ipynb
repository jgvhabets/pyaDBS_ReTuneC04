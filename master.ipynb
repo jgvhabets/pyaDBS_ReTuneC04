{
 "cells": [
  {
   "cell_type": "code",
   "execution_count": null,
   "metadata": {},
   "outputs": [],
   "source": [
    "import importlib\n",
    "from nodes.TMSi import tmsi_sampler\n",
    "importlib.reload(tmsi_sampler)\n",
    "sampler = tmsi_sampler.Tmsisampler()"
   ]
  },
  {
   "cell_type": "code",
   "execution_count": null,
   "metadata": {},
   "outputs": [],
   "source": [
    "import subprocess\n",
    "\n",
    "# Define the command\n",
    "command = \"python /Users/Johannes/anaconda3/envs/py_aDBS/Lib/site-packages/timeflux/timeflux.py -d graphs/aDBS/tmsi_graph.yml\"\n",
    "\n",
    "# Open a subprocess to run the command and capture the output\n",
    "process = subprocess.Popen(command, shell=True, stdout=subprocess.PIPE, stderr=subprocess.STDOUT, text=True)\n",
    "\n",
    "# Read and print the output line by line\n",
    "for line in process.stdout:\n",
    "    print(line, end='')"
   ]
  },
  {
   "cell_type": "code",
   "execution_count": null,
   "metadata": {},
   "outputs": [],
   "source": [
    "for i in range(20):\n",
    "    sampler.update()"
   ]
  },
  {
   "cell_type": "code",
   "execution_count": null,
   "metadata": {},
   "outputs": [],
   "source": [
    "sampler.stream.close()\n",
    "sampler.close()"
   ]
  }
 ],
 "metadata": {
  "kernelspec": {
   "display_name": "py_aDBS",
   "language": "python",
   "name": "python3"
  },
  "language_info": {
   "codemirror_mode": {
    "name": "ipython",
    "version": 3
   },
   "file_extension": ".py",
   "mimetype": "text/x-python",
   "name": "python",
   "nbconvert_exporter": "python",
   "pygments_lexer": "ipython3",
   "version": "3.9.18"
  }
 },
 "nbformat": 4,
 "nbformat_minor": 2
}
